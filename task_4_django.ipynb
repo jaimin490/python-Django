{
  "nbformat": 4,
  "nbformat_minor": 0,
  "metadata": {
    "colab": {
      "name": "task 4 django.ipynb",
      "provenance": [],
      "authorship_tag": "ABX9TyN2Kj92KbOD2hy5U2qlFpZl",
      "include_colab_link": true
    },
    "kernelspec": {
      "name": "python3",
      "display_name": "Python 3"
    },
    "language_info": {
      "name": "python"
    }
  },
  "cells": [
    {
      "cell_type": "markdown",
      "metadata": {
        "id": "view-in-github",
        "colab_type": "text"
      },
      "source": [
        "<a href=\"https://colab.research.google.com/github/jaimin490/python-Django/blob/main/task_4_django.ipynb\" target=\"_parent\"><img src=\"https://colab.research.google.com/assets/colab-badge.svg\" alt=\"Open In Colab\"/></a>"
      ]
    },
    {
      "cell_type": "code",
      "metadata": {
        "id": "iRqZGVyfbRDA"
      },
      "source": [
        ""
      ],
      "execution_count": null,
      "outputs": []
    },
    {
      "cell_type": "markdown",
      "metadata": {
        "id": "Pf4178Vdb0-y"
      },
      "source": [
        "## task 4 django "
      ]
    },
    {
      "cell_type": "code",
      "metadata": {
        "colab": {
          "base_uri": "https://localhost:8080/"
        },
        "id": "UO6Pg2lWb3ru",
        "outputId": "a1151e47-7839-484c-b185-0df00b7675f5"
      },
      "source": [
        "def printName():\n",
        "    name=\"Jaimin\"\n",
        "    print(name)\n",
        "\n",
        "printName()"
      ],
      "execution_count": 2,
      "outputs": [
        {
          "output_type": "stream",
          "text": [
            "Jaimin\n"
          ],
          "name": "stdout"
        }
      ]
    },
    {
      "cell_type": "code",
      "metadata": {
        "colab": {
          "base_uri": "https://localhost:8080/"
        },
        "id": "SLmlKWFdb4TX",
        "outputId": "a88833fb-8440-4005-d513-e32d1916884f"
      },
      "source": [
        "def prod(name,brand):\n",
        "    print(name,\" is a product of \",brand)\n",
        "\n",
        "prod(brand=\"mi\",name=\"mi 10\")\n",
        "prod(\"iphone\",\"apple\")"
      ],
      "execution_count": 4,
      "outputs": [
        {
          "output_type": "stream",
          "text": [
            "mi 10  is a product of  mi\n",
            "iphone  is a product of  apple\n"
          ],
          "name": "stdout"
        }
      ]
    },
    {
      "cell_type": "code",
      "metadata": {
        "colab": {
          "base_uri": "https://localhost:8080/"
        },
        "id": "ytVJLqtlcNFy",
        "outputId": "801e6203-d4c8-4650-81f0-fcb2c15f9d89"
      },
      "source": [
        "def funct(**args):\n",
        "    for i, j in args.items():\n",
        "        print(i,j)\n",
        "\n",
        "funct(software=\"microsoft\", owner=\"bill gates\")    "
      ],
      "execution_count": 6,
      "outputs": [
        {
          "output_type": "stream",
          "text": [
            "software microsoft\n",
            "owner bill gates\n"
          ],
          "name": "stdout"
        }
      ]
    },
    {
      "cell_type": "code",
      "metadata": {
        "colab": {
          "base_uri": "https://localhost:8080/"
        },
        "id": "Fc532JgTczCk",
        "outputId": "dfa5620b-1caa-4247-fe04-2775c54905bf"
      },
      "source": [
        "def getFullname():\n",
        "    fName = \"Jaimin\"\n",
        "    lName = \"Prajapati\"\n",
        "    return fName, lName\n",
        "\n",
        "fName, lName = getFullname()\n",
        "print(fName, lName)"
      ],
      "execution_count": 7,
      "outputs": [
        {
          "output_type": "stream",
          "text": [
            "Jaimin Prajapati\n"
          ],
          "name": "stdout"
        }
      ]
    },
    {
      "cell_type": "code",
      "metadata": {
        "colab": {
          "base_uri": "https://localhost:8080/"
        },
        "id": "KPwGemR9dIlk",
        "outputId": "d8279439-efab-4ce8-8ffb-bb88af6793af"
      },
      "source": [
        "def sum(*no):\n",
        "    sum = 0\n",
        "    for i in no:\n",
        "        sum += i\n",
        "    return sum\n",
        "\n",
        "rs = sum(97,45)\n",
        "print(rs)\n",
        "\n",
        "ars = sum(13,64,790)\n",
        "print(ars)"
      ],
      "execution_count": 9,
      "outputs": [
        {
          "output_type": "stream",
          "text": [
            "142\n",
            "867\n"
          ],
          "name": "stdout"
        }
      ]
    },
    {
      "cell_type": "code",
      "metadata": {
        "colab": {
          "base_uri": "https://localhost:8080/"
        },
        "id": "sSMsxiaRdOXV",
        "outputId": "bfb32d5a-38d1-4983-8007-76d9ed032da4"
      },
      "source": [
        "print(2+3)\n",
        "print(2>=3)\n",
        "\n",
        "if 4 % 2 == 0:\n",
        "    print(\"Modulo is 0\")\n",
        "\n",
        "a = 2\n",
        "b = 4\n",
        "a *= b\n",
        "print(a)\n",
        "\n",
        "l = [2,51,68,90]\n",
        "if 2 in l:\n",
        "    print(\"Element Exist\")\n",
        "\n",
        "print(a is b)"
      ],
      "execution_count": 11,
      "outputs": [
        {
          "output_type": "stream",
          "text": [
            "5\n",
            "False\n",
            "Modulo is 0\n",
            "8\n",
            "Element Exist\n",
            "False\n"
          ],
          "name": "stdout"
        }
      ]
    },
    {
      "cell_type": "code",
      "metadata": {
        "colab": {
          "base_uri": "https://localhost:8080/"
        },
        "id": "sU38af28ek1f",
        "outputId": "3c3812be-c873-40ef-c742-7c34743d8dd9"
      },
      "source": [
        "def fun():\n",
        "    x = 75\n",
        "    print(\"x inside func\",x)\n",
        "\n",
        "fun()\n",
        "x = 188\n",
        "print(\"x is outside func\",x)"
      ],
      "execution_count": 13,
      "outputs": [
        {
          "output_type": "stream",
          "text": [
            "x inside func 75\n",
            "x is outside func 188\n"
          ],
          "name": "stdout"
        }
      ]
    },
    {
      "cell_type": "code",
      "metadata": {
        "id": "r-8knmvpfH4p"
      },
      "source": [
        ""
      ],
      "execution_count": null,
      "outputs": []
    }
  ]
}