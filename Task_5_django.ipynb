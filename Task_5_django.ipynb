{
  "nbformat": 4,
  "nbformat_minor": 0,
  "metadata": {
    "colab": {
      "name": "Task_5_django.ipynb",
      "provenance": [],
      "authorship_tag": "ABX9TyPzQU8fm6IE8k7RJhMimS0h",
      "include_colab_link": true
    },
    "kernelspec": {
      "name": "python3",
      "display_name": "Python 3"
    },
    "language_info": {
      "name": "python"
    }
  },
  "cells": [
    {
      "cell_type": "markdown",
      "metadata": {
        "id": "view-in-github",
        "colab_type": "text"
      },
      "source": [
        "<a href=\"https://colab.research.google.com/github/jaimin490/python-Django/blob/main/Task_5_django.ipynb\" target=\"_parent\"><img src=\"https://colab.research.google.com/assets/colab-badge.svg\" alt=\"Open In Colab\"/></a>"
      ]
    },
    {
      "cell_type": "code",
      "metadata": {
        "id": "cWP-wKA5fsjo"
      },
      "source": [
        ""
      ],
      "execution_count": null,
      "outputs": []
    },
    {
      "cell_type": "markdown",
      "metadata": {
        "id": "fOco_VmFfxTo"
      },
      "source": [
        "# all about task 5"
      ]
    },
    {
      "cell_type": "code",
      "metadata": {
        "colab": {
          "base_uri": "https://localhost:8080/"
        },
        "id": "Tef1OVJHf4w4",
        "outputId": "50070513-49aa-406a-95d2-349da2e1f838"
      },
      "source": [
        "class Demo:\n",
        "    name = \"\"\n",
        "\n",
        "    def __init__(self, name):\n",
        "        self.name = name\n",
        "\n",
        "    def fun(self):\n",
        "        print(\"My name is \"+self.name)\n",
        "\n",
        "af = Demo(\"Jaimin\")\n",
        "af.fun()"
      ],
      "execution_count": 2,
      "outputs": [
        {
          "output_type": "stream",
          "text": [
            "My name is Jaimin\n"
          ],
          "name": "stdout"
        }
      ]
    },
    {
      "cell_type": "code",
      "metadata": {
        "colab": {
          "base_uri": "https://localhost:8080/"
        },
        "id": "hFu2nLdif6S2",
        "outputId": "fc927146-1d6d-4a8d-c91b-12fb03445ba7"
      },
      "source": [
        "class Demo:\n",
        "    def fun(self,n1,n2):\n",
        "        print(n1,\" \",n2)\n",
        "\n",
        "ob = Demo()\n",
        "ob.fun('jaimin','prajapati')"
      ],
      "execution_count": 4,
      "outputs": [
        {
          "output_type": "stream",
          "text": [
            "jaimin   prajapati\n"
          ],
          "name": "stdout"
        }
      ]
    },
    {
      "cell_type": "code",
      "metadata": {
        "colab": {
          "base_uri": "https://localhost:8080/"
        },
        "id": "dCfNtMisgF8k",
        "outputId": "2cf4dd56-6ed2-43f0-afe2-c5b6f8b7cda1"
      },
      "source": [
        "class MyClass:\n",
        "    def __init__(self, name):\n",
        "        print(name)\n",
        "\n",
        "o = MyClass(\"jaimin\")"
      ],
      "execution_count": 5,
      "outputs": [
        {
          "output_type": "stream",
          "text": [
            "jaimin\n"
          ],
          "name": "stdout"
        }
      ]
    },
    {
      "cell_type": "code",
      "metadata": {
        "colab": {
          "base_uri": "https://localhost:8080/"
        },
        "id": "f9hG8_CZiSGG",
        "outputId": "0211bd75-8704-4f7c-f049-28b2fe9d6d31"
      },
      "source": [
        "class Parent:\n",
        "    def __init__(self):\n",
        "        print(\"In Parent Class\")\n",
        "\n",
        "    def introParent(self):\n",
        "        print(\"Welcome to Parent method\")\n",
        "\n",
        "class Child1(Parent):\n",
        "    def __init__(self):\n",
        "        print(\"In Child1 Class\")\n",
        "\n",
        "    def introChild1(self):\n",
        "        print(\"Welcome to Child1 method\")\n",
        "\n",
        "class Child2(Parent):\n",
        "    def __init__(self):\n",
        "        print(\"In Child2 Class\")\n",
        "\n",
        "    def introChild2(self):\n",
        "        print(\"Welcome to Child2 method\")\n",
        "\n",
        "ob = Child1()\n",
        "ob.introParent()\n",
        "ob1 = Child2\n",
        "ob.introParent()"
      ],
      "execution_count": 6,
      "outputs": [
        {
          "output_type": "stream",
          "text": [
            "In Child1 Class\n",
            "Welcome to Parent method\n",
            "Welcome to Parent method\n"
          ],
          "name": "stdout"
        }
      ]
    },
    {
      "cell_type": "code",
      "metadata": {
        "colab": {
          "base_uri": "https://localhost:8080/"
        },
        "id": "Q2kh5XopibmU",
        "outputId": "6866c644-c0f0-4965-c72f-5268c7fbb61f"
      },
      "source": [
        "class Parent:\n",
        "    def __init__(self):\n",
        "        print(\"In Parent Class\")\n",
        "\n",
        "    def introParent(self):\n",
        "        print(\"Welcome to Parent method\")\n",
        "\n",
        "class Child(Parent):\n",
        "    def __init__(self):\n",
        "        print(\"In Child Class\")\n",
        "\n",
        "    def introChild(self):\n",
        "        print(\"Welcome to Parent method\")\n",
        "\n",
        "class ChildSon(Child):\n",
        "    def __init__(self):\n",
        "        print(\"In Child's son Class\")\n",
        "\n",
        "obj = ChildSon()\n",
        "obj.introChild()\n",
        "obj.introParent()"
      ],
      "execution_count": 7,
      "outputs": [
        {
          "output_type": "stream",
          "text": [
            "In Child's son Class\n",
            "Welcome to Parent method\n",
            "Welcome to Parent method\n"
          ],
          "name": "stdout"
        }
      ]
    },
    {
      "cell_type": "code",
      "metadata": {
        "colab": {
          "base_uri": "https://localhost:8080/"
        },
        "id": "7LxOw9DwiiMw",
        "outputId": "c7438304-0e6f-4954-8449-31f9dbc16aa3"
      },
      "source": [
        "class Parent1:\n",
        "    def __init__(self):\n",
        "        print(\"In Parent1 Class\")\n",
        "\n",
        "    def introParent1(self):\n",
        "        print(\"Welcome to Parent1 method\")\n",
        "\n",
        "class Parent2:\n",
        "    def __init__(self):\n",
        "        print(\"In Parent2 Class\")\n",
        "\n",
        "    def introParent2(self):\n",
        "        print(\"Welcome to Parent2 method\")\n",
        "\n",
        "class Child(Parent1,Parent2):\n",
        "    def __init__(self):\n",
        "        print(\"In Child's son Class\")\n",
        "\n",
        "ob = Child()\n",
        "ob.introParent1()\n",
        "ob.introParent2()"
      ],
      "execution_count": 8,
      "outputs": [
        {
          "output_type": "stream",
          "text": [
            "In Child's son Class\n",
            "Welcome to Parent1 method\n",
            "Welcome to Parent2 method\n"
          ],
          "name": "stdout"
        }
      ]
    },
    {
      "cell_type": "code",
      "metadata": {
        "colab": {
          "base_uri": "https://localhost:8080/"
        },
        "id": "p9Gvfs0ZiqCP",
        "outputId": "68712f98-e68b-4dd7-ed0a-e8728a13d4ea"
      },
      "source": [
        "class MyClass:\n",
        "    def sum(self,n1,n2):\n",
        "        print(n1+n2)\n",
        "\n",
        "    def sum(self,n1,n2,n3):\n",
        "        print(n1+n2+n3)\n",
        "\n",
        "ob = MyClass()\n",
        "\n",
        "\n",
        "ob.sum(2,23,5)"
      ],
      "execution_count": 9,
      "outputs": [
        {
          "output_type": "stream",
          "text": [
            "30\n"
          ],
          "name": "stdout"
        }
      ]
    },
    {
      "cell_type": "code",
      "metadata": {
        "colab": {
          "base_uri": "https://localhost:8080/"
        },
        "id": "o-g4oNiwiv8x",
        "outputId": "92c8d9b6-60f6-4e92-ef43-0cf0c80fae48"
      },
      "source": [
        "class Car:\n",
        "    def brand(self):\n",
        "        print(\"This is bike\")\n",
        "\n",
        "class Chevy(Car):\n",
        "    #override\n",
        "    def brand(self):\n",
        "        print(\"This is R15\")\n",
        "\n",
        "obj = Chevy()\n",
        "obj.brand()"
      ],
      "execution_count": 10,
      "outputs": [
        {
          "output_type": "stream",
          "text": [
            "This is R15\n"
          ],
          "name": "stdout"
        }
      ]
    },
    {
      "cell_type": "code",
      "metadata": {
        "colab": {
          "base_uri": "https://localhost:8080/"
        },
        "id": "UWz8U-T-i55T",
        "outputId": "c8d0aabf-aadc-4b50-9317-1d02eb9924bd"
      },
      "source": [
        "class Parent:\n",
        "    def __init__(self):\n",
        "        print(\"In Parent Class\")\n",
        "\n",
        "    def intro(self):\n",
        "        print(\"Welcome to Parent method\")\n",
        "\n",
        "class Child(Parent):\n",
        "    def __init__(self):\n",
        "        print(\"In Child Class\")\n",
        "\n",
        "obj = Child()\n",
        "obj.intro()"
      ],
      "execution_count": 11,
      "outputs": [
        {
          "output_type": "stream",
          "text": [
            "In Child Class\n",
            "Welcome to Parent method\n"
          ],
          "name": "stdout"
        }
      ]
    },
    {
      "cell_type": "code",
      "metadata": {
        "id": "Te7iv89NjD7J"
      },
      "source": [
        ""
      ],
      "execution_count": null,
      "outputs": []
    }
  ]
}